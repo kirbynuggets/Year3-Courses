{
 "cells": [
  {
   "metadata": {},
   "cell_type": "markdown",
   "source": "#   Evaluation Assignment 2",
   "id": "8c710ab23710d589"
  },
  {
   "metadata": {},
   "cell_type": "markdown",
   "source": "## Importing required libraries",
   "id": "ecb86fc61ef3b862"
  },
  {
   "metadata": {
    "ExecuteTime": {
     "end_time": "2024-10-24T04:14:36.524430Z",
     "start_time": "2024-10-24T04:14:36.066889Z"
    }
   },
   "cell_type": "code",
   "source": [
    "import numpy as np\n",
    "import time"
   ],
   "id": "b93c2df1bddec9f7",
   "outputs": [],
   "execution_count": 1
  },
  {
   "metadata": {},
   "cell_type": "markdown",
   "source": "## Uploading Dataset",
   "id": "56eff774c9dfd6c9"
  },
  {
   "metadata": {},
   "cell_type": "markdown",
   "source": "### Total Spending (in USD), Number of Transactions, Average Purchase Value (in USD)",
   "id": "43210bb168c3f646"
  },
  {
   "metadata": {
    "ExecuteTime": {
     "end_time": "2024-10-24T04:14:36.537362Z",
     "start_time": "2024-10-24T04:14:36.529889Z"
    }
   },
   "cell_type": "code",
   "source": [
    "data = np.array([\n",
    "    [500, 10, 50],\n",
    "    [1500, 15, 100],\n",
    "    [200, 5, 40],\n",
    "    [800, 20, 40],\n",
    "    [300, 8, 37.5],\n",
    "    [600, 12, 50],\n",
    "    [1000, 10, 100],\n",
    "    [450, 9, 50],\n",
    "    [1200, 14, 85.71],\n",
    "    [900, 7, 128.57]])"
   ],
   "id": "b02f5e4953fae97e",
   "outputs": [],
   "execution_count": 2
  },
  {
   "metadata": {},
   "cell_type": "markdown",
   "source": "## K Medoids Algorithm",
   "id": "170338501f977c4"
  },
  {
   "metadata": {},
   "cell_type": "markdown",
   "source": "#### Euclidean Distance Function",
   "id": "1214aa35c34e8e45"
  },
  {
   "metadata": {
    "ExecuteTime": {
     "end_time": "2024-10-24T04:14:36.549176Z",
     "start_time": "2024-10-24T04:14:36.540315Z"
    }
   },
   "cell_type": "code",
   "source": [
    "def euclidean_distance(point1, point2):\n",
    "    return np.sqrt(np.sum((point1 - point2) ** 2))"
   ],
   "id": "4011326b72a23904",
   "outputs": [],
   "execution_count": 3
  },
  {
   "metadata": {},
   "cell_type": "markdown",
   "source": "#### Total Cost Function",
   "id": "74e05866eb5388c8"
  },
  {
   "metadata": {
    "ExecuteTime": {
     "end_time": "2024-10-24T04:14:36.562759Z",
     "start_time": "2024-10-24T04:14:36.553578Z"
    }
   },
   "cell_type": "code",
   "source": [
    "def total_sse(data, medoids, clusters):\n",
    "    sse = 0\n",
    "    for medoid_idx, cluster in clusters.items():\n",
    "        medoid = medoids[medoid_idx]\n",
    "        for point_idx in cluster:\n",
    "            sse += euclidean_distance(data[point_idx], medoid) ** 2\n",
    "    return sse"
   ],
   "id": "f6593aa6c6c6ad33",
   "outputs": [],
   "execution_count": 4
  },
  {
   "metadata": {},
   "cell_type": "markdown",
   "source": "#### Algorithm",
   "id": "3bc636ee36ecd1f"
  },
  {
   "metadata": {
    "ExecuteTime": {
     "end_time": "2024-10-24T04:14:36.645245Z",
     "start_time": "2024-10-24T04:14:36.565872Z"
    }
   },
   "cell_type": "code",
   "source": [
    "def k_medoids(data, k, max_iterations=1000):\n",
    "    m, n = data.shape\n",
    "    medoid_indices = np.random.choice(m, k, replace=False)\n",
    "    medoids = data[medoid_indices]\n",
    "    \n",
    "    # Initial Cluster formation\n",
    "    initial_clusters = {}\n",
    "    for idx, point in enumerate(data):\n",
    "        distances = np.array([euclidean_distance(point, medoid) for medoid in medoids])\n",
    "        nearest_medoid = np.argmin(distances)\n",
    "        if nearest_medoid in initial_clusters:\n",
    "            initial_clusters[nearest_medoid].append(idx)\n",
    "        else:\n",
    "            initial_clusters[nearest_medoid] = [idx]\n",
    "\n",
    "    # Initial SSE\n",
    "    initial_sse = total_sse(data, medoids, initial_clusters)\n",
    "    print(f\"Initial SSE: {initial_sse}\")\n",
    "\n",
    "    #Time Calculation\n",
    "    start_time = time.time()\n",
    "\n",
    "    #Optimised Cluster formation\n",
    "    for iteration in range(max_iterations):\n",
    "        clusters = {}\n",
    "        for idx, point in enumerate(data):\n",
    "            distances = np.array([euclidean_distance(point, medoid) for medoid in medoids])\n",
    "            nearest_medoid = np.argmin(distances)\n",
    "            if nearest_medoid in clusters:\n",
    "                clusters[nearest_medoid].append(idx)\n",
    "            else:\n",
    "                clusters[nearest_medoid] = [idx]\n",
    "\n",
    "        current_cost = total_sse(data, medoids, clusters)\n",
    "        best_medoids = np.copy(medoids)\n",
    "        best_cost = current_cost\n",
    "\n",
    "        for medoid_idx in range(k):\n",
    "            for non_medoid_idx in range(m):\n",
    "                if non_medoid_idx in medoid_indices:\n",
    "                    continue\n",
    "                new_medoids = np.copy(medoids)\n",
    "                new_medoids[medoid_idx] = data[non_medoid_idx]\n",
    "\n",
    "                new_clusters = {}\n",
    "                for idx, point in enumerate(data):\n",
    "                    distances = np.array([euclidean_distance(point, medoid) for medoid in new_medoids])\n",
    "                    nearest_medoid = np.argmin(distances)\n",
    "                    if nearest_medoid in new_clusters:\n",
    "                        new_clusters[nearest_medoid].append(idx)\n",
    "                    else:\n",
    "                        new_clusters[nearest_medoid] = [idx]\n",
    "\n",
    "                new_cost = total_sse(data, new_medoids, new_clusters)\n",
    "                if new_cost < best_cost:\n",
    "                    best_medoids = new_medoids\n",
    "                    best_cost = new_cost\n",
    "\n",
    "        if np.all(medoids == best_medoids):\n",
    "            break\n",
    "        medoids = best_medoids\n",
    "\n",
    "    end_time = time.time()\n",
    "\n",
    "    # Final SSE\n",
    "    final_sse = total_sse(data, medoids, clusters)\n",
    "    print(f\"Final SSE: {final_sse}\")\n",
    "    \n",
    "    effectiveness = -((((final_sse - initial_sse)) / initial_sse) * 100)\n",
    "    print(f\"Effectiveness: {effectiveness:.2f}%\")\n",
    "\n",
    "    print(f\"Time Taken: {end_time - start_time:.4f} seconds\")\n",
    "    return medoids, clusters\n",
    "\n",
    "\n",
    "# Number of clusters (k)\n",
    "k = 3\n",
    "medoids, clusters = k_medoids(data, k)"
   ],
   "id": "831df20deac92fab",
   "outputs": [
    {
     "name": "stdout",
     "output_type": "stream",
     "text": [
      "Initial SSE: 1505167.449\n",
      "Final SSE: 229327.34389999998\n",
      "Effectiveness: 84.76%\n",
      "Time Taken: 0.0541 seconds\n"
     ]
    }
   ],
   "execution_count": 5
  },
  {
   "metadata": {},
   "cell_type": "markdown",
   "source": "## Results",
   "id": "c44bbc8f9ae65dea"
  },
  {
   "metadata": {
    "ExecuteTime": {
     "end_time": "2024-10-24T04:14:36.657311Z",
     "start_time": "2024-10-24T04:14:36.648319Z"
    }
   },
   "cell_type": "code",
   "source": [
    "print(\"Final Medoids:\")\n",
    "print(medoids)\n",
    "for medoid_idx, cluster in clusters.items():\n",
    "    print(f\"Cluster {medoid_idx + 1}: {cluster}\")"
   ],
   "id": "65954c7947e7c8e3",
   "outputs": [
    {
     "name": "stdout",
     "output_type": "stream",
     "text": [
      "Final Medoids:\n",
      "[[1200.     14.     85.71]\n",
      " [ 450.      9.     50.  ]\n",
      " [ 900.      7.    128.57]]\n",
      "Cluster 2: [0, 2, 4, 5, 7]\n",
      "Cluster 1: [1, 8]\n",
      "Cluster 3: [3, 6, 9]\n"
     ]
    }
   ],
   "execution_count": 6
  },
  {
   "metadata": {},
   "cell_type": "markdown",
   "source": "## Effectiveness",
   "id": "1792798dfb0fe37a"
  },
  {
   "metadata": {},
   "cell_type": "markdown",
   "source": "### Effectiveness percent along with time efficiency has already been shown above",
   "id": "b64b0b5bbd6da8d1"
  },
  {
   "metadata": {
    "ExecuteTime": {
     "end_time": "2024-10-24T04:14:36.666631Z",
     "start_time": "2024-10-24T04:14:36.662371Z"
    }
   },
   "cell_type": "code",
   "source": "",
   "id": "e04dcd1df178ae36",
   "outputs": [],
   "execution_count": 6
  }
 ],
 "metadata": {
  "kernelspec": {
   "display_name": "Python 3",
   "language": "python",
   "name": "python3"
  },
  "language_info": {
   "codemirror_mode": {
    "name": "ipython",
    "version": 2
   },
   "file_extension": ".py",
   "mimetype": "text/x-python",
   "name": "python",
   "nbconvert_exporter": "python",
   "pygments_lexer": "ipython2",
   "version": "2.7.6"
  }
 },
 "nbformat": 4,
 "nbformat_minor": 5
}
