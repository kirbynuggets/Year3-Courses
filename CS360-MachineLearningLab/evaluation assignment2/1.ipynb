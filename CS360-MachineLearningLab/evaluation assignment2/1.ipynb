{
 "cells": [
  {
   "cell_type": "code",
   "id": "initial_id",
   "metadata": {
    "collapsed": true,
    "ExecuteTime": {
     "end_time": "2024-11-07T04:57:19.783908Z",
     "start_time": "2024-11-07T04:57:19.780462Z"
    }
   },
   "source": [
    ""
   ],
   "outputs": [],
   "execution_count": 2
  },
  {
   "metadata": {
    "ExecuteTime": {
     "end_time": "2024-11-07T04:57:19.805176Z",
     "start_time": "2024-11-07T04:57:19.789263Z"
    }
   },
   "cell_type": "code",
   "source": [
    "from sklearn.base import BaseEstimator, ClassifierMixin\n",
    "\n",
    "class DecisionTree(BaseEstimator, ClassifierMixin):\n",
    "    def __init__(self, depth=0, max_depth=3):\n",
    "        self.depth = depth\n",
    "        self.max_depth = max_depth\n",
    "        self.feature = None\n",
    "        self.threshold = None\n",
    "        self.left = None\n",
    "        self.right = None\n",
    "        self.value = None\n",
    "\n",
    "    def fit(self, X, y):\n",
    "        if len(set(y)) == 1:\n",
    "            self.value = y[0]\n",
    "            return self\n",
    "\n",
    "        if self.depth >= self.max_depth:\n",
    "            self.value = Counter(y).most_common(1)[0][0]\n",
    "            return self\n",
    "\n",
    "        n_samples, n_features = X.shape\n",
    "        best_gain = -1\n",
    "        split = None\n",
    "\n",
    "        for feature in range(n_features):\n",
    "            values = X[:, feature]\n",
    "            thresholds = np.unique(values)\n",
    "            for threshold in thresholds:\n",
    "                left_indices = np.where(values <= threshold)[0]\n",
    "                right_indices = np.where(values > threshold)[0]\n",
    "                if len(left_indices) > 0 and len(right_indices) > 0:\n",
    "                    gain = information_gain(y, [left_indices, right_indices])\n",
    "                    if gain > best_gain:\n",
    "                        best_gain = gain\n",
    "                        self.feature = feature\n",
    "                        self.threshold = threshold\n",
    "                        split = (left_indices, right_indices)\n",
    "\n",
    "        if best_gain == -1:\n",
    "            self.value = Counter(y).most_common(1)[0][0]\n",
    "            return self\n",
    "\n",
    "        left_indices, right_indices = split\n",
    "        self.left = DecisionTree(self.depth + 1, self.max_depth)\n",
    "        self.right = DecisionTree(self.depth + 1, self.max_depth)\n",
    "        self.left.fit(X[left_indices, :], y[left_indices])\n",
    "        self.right.fit(X[right_indices, :], y[right_indices])\n",
    "        return self\n",
    "\n",
    "    def predict(self, X):\n",
    "        if self.value is not None:\n",
    "            return np.array([self.value] * len(X))\n",
    "        feature_value = X[:, self.feature]\n",
    "        left_indices = np.where(feature_value <= self.threshold)[0]\n",
    "        right_indices = np.where(feature_value > self.threshold)[0]\n",
    "        y_pred = np.empty(len(X), dtype=int)\n",
    "        y_pred[left_indices] = self.left.predict(X[left_indices])\n",
    "        y_pred[right_indices] = self.right.predict(X[right_indices])\n",
    "        return y_pred\n",
    "\n",
    "    def print_tree(self, feature_names, indent=\"\"):\n",
    "        if self.value is not None:\n",
    "            print(indent + \"Predict:\", self.value)\n",
    "        else:\n",
    "            print(indent + f\"Feature {feature_names[self.feature]} <= {self.threshold}\")\n",
    "            print(indent + \"Left:\")\n",
    "            self.left.print_tree(feature_names, indent + \"  \")\n",
    "            print(indent + \"Right:\")\n",
    "            self.right.print_tree(feature_names, indent + \"  \")"
   ],
   "id": "d7195cb15b5b648d",
   "outputs": [],
   "execution_count": 3
  }
 ],
 "metadata": {
  "kernelspec": {
   "display_name": "Python 3",
   "language": "python",
   "name": "python3"
  },
  "language_info": {
   "codemirror_mode": {
    "name": "ipython",
    "version": 2
   },
   "file_extension": ".py",
   "mimetype": "text/x-python",
   "name": "python",
   "nbconvert_exporter": "python",
   "pygments_lexer": "ipython2",
   "version": "2.7.6"
  }
 },
 "nbformat": 4,
 "nbformat_minor": 5
}
