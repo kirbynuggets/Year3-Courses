{
 "cells": [
  {
   "metadata": {},
   "cell_type": "markdown",
   "source": "# MIDSEM LAB EXAM (CS306: Machine Learning)",
   "id": "d022048247fbf9f2"
  },
  {
   "metadata": {},
   "cell_type": "markdown",
   "source": "## Required Libraries",
   "id": "1e0b9dcda31b367c"
  },
  {
   "metadata": {
    "ExecuteTime": {
     "end_time": "2024-10-17T15:12:10.258201Z",
     "start_time": "2024-10-17T15:12:10.252955Z"
    }
   },
   "cell_type": "code",
   "source": [
    "import numpy as np\n",
    "import pandas as pd\n",
    "from sklearn.model_selection import train_test_split, GridSearchCV\n",
    "from sklearn.linear_model import LogisticRegression\n",
    "from sklearn.metrics import accuracy_score\n",
    "import matplotlib.pyplot as plt"
   ],
   "id": "4f504f5b665e70e5",
   "outputs": [],
   "execution_count": 13
  },
  {
   "metadata": {},
   "cell_type": "markdown",
   "source": "## Import Dataset (excluding label column)",
   "id": "c003e7834a3189bb"
  },
  {
   "metadata": {
    "ExecuteTime": {
     "end_time": "2024-10-17T15:12:10.295510Z",
     "start_time": "2024-10-17T15:12:10.286569Z"
    }
   },
   "cell_type": "code",
   "source": [
    "iris_data = pd.read_csv('iris.csv') \n",
    "X = iris_data.drop(columns=['Species']).values "
   ],
   "id": "e7a7be983c92257",
   "outputs": [],
   "execution_count": 14
  },
  {
   "metadata": {},
   "cell_type": "markdown",
   "source": "## K-Mean clustering",
   "id": "80e34b8d32c25c9d"
  },
  {
   "metadata": {
    "ExecuteTime": {
     "end_time": "2024-10-17T15:12:10.310770Z",
     "start_time": "2024-10-17T15:12:10.301641Z"
    }
   },
   "cell_type": "code",
   "source": [
    "def initialize_centroids(X, k):\n",
    "    indices = np.random.choice(X.shape[0], k, replace=False)\n",
    "    return X[indices]\n",
    "\n",
    "def assign_clusters(X, centroids):\n",
    "    distances = np.sqrt(((X - centroids[:, np.newaxis])**2).sum(axis=2))\n",
    "    return np.argmin(distances, axis=0)\n",
    "\n",
    "def update_centroids(X, labels, k):\n",
    "    return np.array([X[labels == i].mean(axis=0) for i in range(k)])\n",
    "\n",
    "def kmeans(X, k, max_iters=100):\n",
    "    centroids = initialize_centroids(X, k)\n",
    "    for _ in range(max_iters):\n",
    "        labels = assign_clusters(X, centroids)\n",
    "        new_centroids = update_centroids(X, labels, k)\n",
    "        if np.all(centroids == new_centroids):\n",
    "            break\n",
    "        centroids = new_centroids\n",
    "    return labels, centroids"
   ],
   "id": "e39e2016c3225a8b",
   "outputs": [],
   "execution_count": 15
  },
  {
   "metadata": {},
   "cell_type": "markdown",
   "source": "",
   "id": "778bd05c85fdba8d"
  },
  {
   "metadata": {},
   "cell_type": "markdown",
   "source": "## (a) Performance, No. of clusters (K-Means) ",
   "id": "5ea5c93643f8849d"
  },
  {
   "metadata": {
    "ExecuteTime": {
     "end_time": "2024-10-17T15:12:10.476146Z",
     "start_time": "2024-10-17T15:12:10.313262Z"
    }
   },
   "cell_type": "code",
   "source": [
    "def calculate_inertia(X, labels, centroids):\n",
    "    return np.sum((X - centroids[labels])**2)\n",
    "\n",
    "def elbow_method(X, max_k=10):\n",
    "    inertias = []\n",
    "    for k in range(1, max_k + 1):\n",
    "        labels, centroids = kmeans(X, k)\n",
    "        inertia = calculate_inertia(X, labels, centroids)\n",
    "        inertias.append(inertia)\n",
    "        print(f'Number of clusters: {k}, Inertia: {inertia:.4f}')\n",
    "    return inertias\n",
    "\n",
    "inertias = elbow_method(X, max_k=10)\n",
    "\n",
    "plt.plot(range(1, 11), inertias, marker='o')\n",
    "plt.title(\"Elbow Method for Optimal Clusters\")\n",
    "plt.xlabel(\"Number of clusters\")\n",
    "plt.ylabel(\"Inertia\")\n",
    "plt.show()"
   ],
   "id": "724fa9824fca45fc",
   "outputs": [
    {
     "name": "stdout",
     "output_type": "stream",
     "text": [
      "Number of clusters: 1, Inertia: 281918.3244\n",
      "Number of clusters: 2, Inertia: 70649.3547\n",
      "Number of clusters: 3, Inertia: 31365.5897\n",
      "Number of clusters: 4, Inertia: 17872.3597\n",
      "Number of clusters: 5, Inertia: 11598.2844\n",
      "Number of clusters: 6, Inertia: 8063.3503\n",
      "Number of clusters: 7, Inertia: 5945.0788\n",
      "Number of clusters: 8, Inertia: 4595.6236\n",
      "Number of clusters: 9, Inertia: 3627.1321\n",
      "Number of clusters: 10, Inertia: 3162.4814\n"
     ]
    },
    {
     "data": {
      "text/plain": [
       "<Figure size 640x480 with 1 Axes>"
      ],
      "image/png": "[encoded data removed]"
     },
     "metadata": {},
     "output_type": "display_data"
    }
   ],
   "execution_count": 16
  },
  {
   "metadata": {},
   "cell_type": "markdown",
   "source": "",
   "id": "27e80793bb511d3d"
  },
  {
   "metadata": {
    "ExecuteTime": {
     "end_time": "2024-10-17T15:12:10.486778Z",
     "start_time": "2024-10-17T15:12:10.478525Z"
    }
   },
   "cell_type": "code",
   "source": [
    "k = 3\n",
    "labels, centroids = kmeans(X, k)"
   ],
   "id": "4b607f1218b22ff7",
   "outputs": [],
   "execution_count": 17
  },
  {
   "metadata": {},
   "cell_type": "markdown",
   "source": "## (b) Logistic Regression",
   "id": "f8fd6e9b4511b426"
  },
  {
   "metadata": {
    "ExecuteTime": {
     "end_time": "2024-10-17T15:12:10.955351Z",
     "start_time": "2024-10-17T15:12:10.489391Z"
    }
   },
   "cell_type": "code",
   "source": [
    "def select_closest_samples(X, labels, centroids, n=25):\n",
    "    selected_samples = []\n",
    "    for i in range(centroids.shape[0]):\n",
    "        cluster_points = X[labels == i]\n",
    "        distances = np.sqrt(((cluster_points - centroids[i])**2).sum(axis=1))\n",
    "        closest_indices = np.argsort(distances)[:n]\n",
    "        selected_samples.append(cluster_points[closest_indices])\n",
    "    return np.vstack(selected_samples)\n",
    "\n",
    "selected_samples = select_closest_samples(X, labels, centroids, n=25)\n",
    "\n",
    "selected_labels = np.concatenate([np.full(25, i) for i in range(k)])\n",
    "X_train, X_test, y_train, y_test = train_test_split(selected_samples, selected_labels, test_size=0.2, random_state=42)\n",
    "\n",
    "param_grid = {\n",
    "    'C': [0.1, 1, 10, 100],\n",
    "    'solver': ['liblinear', 'lbfgs']\n",
    "}\n",
    "grid_search = GridSearchCV(LogisticRegression(max_iter=1000), param_grid, cv=5)\n",
    "grid_search.fit(X_train, y_train)\n",
    "\n",
    "print(f\"Best parameters: {grid_search.best_params_}\")\n",
    "\n",
    "log_reg = grid_search.best_estimator_\n",
    "log_reg.fit(X_train, y_train)\n",
    "\n",
    "y_pred = log_reg.predict(X_test)\n",
    "\n",
    "accuracy = accuracy_score(y_test, y_pred)\n",
    "print(f\"Logistic Regression Accuracy: {accuracy:.4f}\")\n",
    "\n",
    "train_accuracy = log_reg.score(X_train, y_train)\n",
    "test_accuracy = log_reg.score(X_test, y_test)\n",
    "\n",
    "if train_accuracy > test_accuracy:\n",
    "    if test_accuracy < 0.5:\n",
    "        print(\"The model is underfitting.\")\n",
    "        plt.title(\"Underfitting Detected\")\n",
    "    else:\n",
    "        print(\"The model is slightly overfitting but acceptable.\")\n",
    "        plt.title(\"Slight Overfitting\")\n",
    "else:\n",
    "    print(\"The model is neither overfitting nor underfitting.\")\n",
    "    plt.title(\"Good Fit\")\n",
    "\n",
    "accuracies = [train_accuracy, test_accuracy]\n",
    "labels = ['Training Accuracy', 'Test Accuracy']\n",
    "plt.bar(labels, accuracies, color=['blue', 'green'])\n",
    "plt.ylim(0, 1)\n",
    "plt.ylabel('Accuracy')\n",
    "plt.show()"
   ],
   "id": "68cebb0a937fa9e5",
   "outputs": [
    {
     "name": "stdout",
     "output_type": "stream",
     "text": [
      "Best parameters: {'C': 0.1, 'solver': 'lbfgs'}\n",
      "Logistic Regression Accuracy: 1.0000\n",
      "The model is neither overfitting nor underfitting.\n"
     ]
    },
    {
     "data": {
      "text/plain": [
       "<Figure size 640x480 with 1 Axes>"
      ],
      "image/png": "[encoded data removed]"
     },
     "metadata": {},
     "output_type": "display_data"
    }
   ],
   "execution_count": 18
  }
 ],
 "metadata": {
  "kernelspec": {
   "display_name": "Python 3",
   "language": "python",
   "name": "python3"
  },
  "language_info": {
   "codemirror_mode": {
    "name": "ipython",
    "version": 2
   },
   "file_extension": ".py",
   "mimetype": "text/x-python",
   "name": "python",
   "nbconvert_exporter": "python",
   "pygments_lexer": "ipython2",
   "version": "2.7.6"
  }
 },
 "nbformat": 4,
 "nbformat_minor": 5
}
