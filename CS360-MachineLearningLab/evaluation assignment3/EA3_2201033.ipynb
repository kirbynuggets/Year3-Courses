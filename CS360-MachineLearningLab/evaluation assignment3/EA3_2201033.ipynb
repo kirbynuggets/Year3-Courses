{
 "cells": [
  {
   "metadata": {},
   "cell_type": "markdown",
   "source": "# Evaluation Assignment 3",
   "id": "a81158e46ea024f5"
  },
  {
   "metadata": {},
   "cell_type": "markdown",
   "source": "## Required Libraries",
   "id": "c60d086ed070fab0"
  },
  {
   "metadata": {
    "ExecuteTime": {
     "end_time": "2024-11-07T04:59:21.300745Z",
     "start_time": "2024-11-07T04:59:21.296980Z"
    }
   },
   "cell_type": "code",
   "source": [
    "import numpy as np\n",
    "import pandas as pd\n",
    "from collections import Counter\n",
    "import math\n",
    "from sklearn.metrics import confusion_matrix"
   ],
   "id": "2f0944dc467c1b0a",
   "outputs": [],
   "execution_count": 110
  },
  {
   "metadata": {},
   "cell_type": "markdown",
   "source": "## (a) Dataset Creation",
   "id": "a9360358e0b4a7af"
  },
  {
   "metadata": {
    "ExecuteTime": {
     "end_time": "2024-11-07T04:59:21.375131Z",
     "start_time": "2024-11-07T04:59:21.363921Z"
    }
   },
   "cell_type": "code",
   "source": [
    "np.random.seed(42)\n",
    "\n",
    "data = {\n",
    "    'Age' : np.random.randint(20,80,21),\n",
    "    'Blood_Pressure' : np.random.choice(['High', 'Low', 'Normal'], 21),\n",
    "    'Symptoms_Present' : np.random.choice(['Yes', 'No'], 21),\n",
    "    'Family_History': np.random.choice(['Yes', 'No'], 21),\n",
    "    'Test_Result_Level' : np.random.choice(['High', 'Medium', 'Low'], 21),\n",
    "    'Illness': np.random.choice(['Yes', 'No'], 21)\n",
    "}\n",
    "\n",
    "df = pd.DataFrame(data)\n",
    "print(df)\n",
    "\n",
    "df['Blood_Pressure'] = df['Blood_Pressure'].map({'High': 2, 'Normal': 1, 'Low': 0})\n",
    "df['Symptoms_Present'] = df['Symptoms_Present'].map({'Yes': 1, 'No': 0})\n",
    "df['Family_History'] = df['Family_History'].map({'Yes': 1, 'No': 0})\n",
    "df['Test_Result_Level'] = df['Test_Result_Level'].map({'High': 2, 'Medium': 1, 'Low': 0})\n",
    "df['Illness'] = df['Illness'].map({'Yes': 1, 'No': 0})"
   ],
   "id": "d1da95bac7ba94f7",
   "outputs": [
    {
     "name": "stdout",
     "output_type": "stream",
     "text": [
      "    Age Blood_Pressure Symptoms_Present Family_History Test_Result_Level  \\\n",
      "0    58            Low               No            Yes            Medium   \n",
      "1    71            Low              Yes             No            Medium   \n",
      "2    48            Low               No             No            Medium   \n",
      "3    34            Low               No             No              High   \n",
      "4    62           High              Yes            Yes               Low   \n",
      "5    27           High              Yes             No            Medium   \n",
      "6    40            Low              Yes            Yes            Medium   \n",
      "7    58            Low              Yes             No            Medium   \n",
      "8    77           High              Yes            Yes            Medium   \n",
      "9    38           High              Yes             No            Medium   \n",
      "10   42           High              Yes            Yes            Medium   \n",
      "11   30         Normal              Yes            Yes               Low   \n",
      "12   30         Normal               No             No               Low   \n",
      "13   43         Normal               No            Yes            Medium   \n",
      "14   72            Low              Yes             No               Low   \n",
      "15   55         Normal               No             No              High   \n",
      "16   59            Low               No             No            Medium   \n",
      "17   43            Low               No             No              High   \n",
      "18   22         Normal               No             No              High   \n",
      "19   41            Low              Yes             No            Medium   \n",
      "20   72         Normal               No             No               Low   \n",
      "\n",
      "   Illness  \n",
      "0      Yes  \n",
      "1       No  \n",
      "2       No  \n",
      "3      Yes  \n",
      "4       No  \n",
      "5       No  \n",
      "6       No  \n",
      "7      Yes  \n",
      "8      Yes  \n",
      "9      Yes  \n",
      "10     Yes  \n",
      "11     Yes  \n",
      "12     Yes  \n",
      "13     Yes  \n",
      "14     Yes  \n",
      "15     Yes  \n",
      "16      No  \n",
      "17     Yes  \n",
      "18      No  \n",
      "19      No  \n",
      "20      No  \n"
     ]
    }
   ],
   "execution_count": 111
  },
  {
   "metadata": {},
   "cell_type": "markdown",
   "source": "## Information Gain Calculation",
   "id": "28d410ceab6ef7ae"
  },
  {
   "metadata": {
    "ExecuteTime": {
     "end_time": "2024-11-07T04:59:21.385738Z",
     "start_time": "2024-11-07T04:59:21.381851Z"
    }
   },
   "cell_type": "code",
   "source": [
    "def entropy(y):\n",
    "    counts = np.bincount(y)\n",
    "    probabilities = counts / len(y)\n",
    "    return -np.sum([p * math.log2(p) for p in probabilities if p > 0])\n",
    "\n",
    "def information_gain(y, split_indices):\n",
    "    parent_entropy = entropy(y)\n",
    "    n = len(y)\n",
    "    weighted_avg_entropy = sum((len(split) / n) * entropy(y[split]) for split in split_indices)\n",
    "    return parent_entropy - weighted_avg_entropy"
   ],
   "id": "fd81b312ce840183",
   "outputs": [],
   "execution_count": 112
  },
  {
   "metadata": {},
   "cell_type": "markdown",
   "source": "## (b) Decision Tree using information gain",
   "id": "7fc4bc48a89228a3"
  },
  {
   "metadata": {
    "ExecuteTime": {
     "end_time": "2024-11-07T04:59:21.403437Z",
     "start_time": "2024-11-07T04:59:21.394335Z"
    }
   },
   "cell_type": "code",
   "source": [
    "class DecisionTree:\n",
    "    def __init__(self, depth=0, max_depth=3):\n",
    "        self.depth = depth\n",
    "        self.max_depth = max_depth\n",
    "        self.feature = None\n",
    "        self.threshold = None\n",
    "        self.left = None\n",
    "        self.right = None\n",
    "        self.value = None\n",
    "\n",
    "    def fit(self, X, y):\n",
    "        if len(set(y)) == 1:\n",
    "            self.value = y[0]\n",
    "            return\n",
    "\n",
    "        if self.depth >= self.max_depth:\n",
    "            self.value = Counter(y).most_common(1)[0][0]\n",
    "            return\n",
    "\n",
    "        n_samples, n_features = X.shape\n",
    "        best_gain = -1\n",
    "        split = None\n",
    "\n",
    "        for feature in range(n_features):\n",
    "            values = X[:, feature]\n",
    "            thresholds = np.unique(values)\n",
    "            for threshold in thresholds:\n",
    "                left_indices = np.where(values <= threshold)[0]\n",
    "                right_indices = np.where(values > threshold)[0]\n",
    "                if len(left_indices) > 0 and len(right_indices) > 0:\n",
    "                    gain = information_gain(y, [left_indices, right_indices])\n",
    "                    if gain > best_gain:\n",
    "                        best_gain = gain\n",
    "                        self.feature = feature\n",
    "                        self.threshold = threshold\n",
    "                        split = (left_indices, right_indices)\n",
    "\n",
    "        if best_gain == -1:\n",
    "            self.value = Counter(y).most_common(1)[0][0]\n",
    "            return\n",
    "\n",
    "        left_indices, right_indices = split\n",
    "        self.left = DecisionTree(self.depth + 1, self.max_depth)\n",
    "        self.right = DecisionTree(self.depth + 1, self.max_depth)\n",
    "        self.left.fit(X[left_indices, :], y[left_indices])\n",
    "        self.right.fit(X[right_indices, :], y[right_indices])\n",
    "\n",
    "    def predict(self, X):\n",
    "        if self.value is not None:\n",
    "            return self.value\n",
    "        feature_value = X[self.feature]\n",
    "        if feature_value <= self.threshold:\n",
    "            return self.left.predict(X)\n",
    "        else:\n",
    "            return self.right.predict(X)\n",
    "        \n",
    "# Print decision tree\n",
    "def print_tree(node, depth=0):\n",
    "    if node.value is not None:\n",
    "        print(f\"{depth * '  '}Predict {node.value}\")\n",
    "    else:\n",
    "        print(f\"{depth * '  '}{node.feature} <= {node.threshold}\")\n",
    "        print_tree(node.left, depth + 1)\n",
    "        print_tree(node.right, depth + 1)"
   ],
   "id": "ff0edd5677748c70",
   "outputs": [],
   "execution_count": 113
  },
  {
   "metadata": {},
   "cell_type": "markdown",
   "source": "## Training and Testing the Model",
   "id": "7657b118dfb9cfa2"
  },
  {
   "metadata": {
    "ExecuteTime": {
     "end_time": "2024-11-07T04:59:21.422156Z",
     "start_time": "2024-11-07T04:59:21.405782Z"
    }
   },
   "cell_type": "code",
   "source": [
    "X = df.drop(columns=['Illness']).values\n",
    "y = df['Illness'].values\n",
    "\n",
    "train_size = int(0.8 * len(X))\n",
    "X_train, X_test = X[:train_size], X[train_size:]\n",
    "y_train, y_test = y[:train_size], y[train_size:]\n",
    "\n",
    "tree = DecisionTree(max_depth=3)\n",
    "tree.fit(X_train, y_train)\n",
    "\n",
    "y_pred = np.array([tree.predict(x) for x in X_test])"
   ],
   "id": "5e7ddc1671665f19",
   "outputs": [],
   "execution_count": 114
  },
  {
   "metadata": {},
   "cell_type": "markdown",
   "source": "## (c) Prediction",
   "id": "e164cfe1bbda8ce8"
  },
  {
   "metadata": {
    "ExecuteTime": {
     "end_time": "2024-11-07T04:59:21.433859Z",
     "start_time": "2024-11-07T04:59:21.429652Z"
    }
   },
   "cell_type": "code",
   "source": [
    "patient = np.array([25, 1, 1, 0, 2]) \n",
    "patient_prediction = tree.predict(patient)\n",
    "print(\"Prediction for patient (25 years, High BP, Symptoms Present, No Family History, High Test Result):\",\n",
    "      \"Yes\" if patient_prediction == 1 else \"No\")"
   ],
   "id": "c6a34249da54f2ee",
   "outputs": [
    {
     "name": "stdout",
     "output_type": "stream",
     "text": [
      "Prediction for patient (25 years, High BP, Symptoms Present, No Family History, High Test Result): No\n"
     ]
    }
   ],
   "execution_count": 115
  },
  {
   "metadata": {},
   "cell_type": "markdown",
   "source": [
    "\n",
    "## (d) Accuracy & Confusion Matrix"
   ],
   "id": "a75829d151d70ea3"
  },
  {
   "metadata": {
    "ExecuteTime": {
     "end_time": "2024-11-07T04:59:21.449301Z",
     "start_time": "2024-11-07T04:59:21.437591Z"
    }
   },
   "cell_type": "code",
   "source": [
    "accuracy = np.sum(y_pred == y_test) / len(y_test)\n",
    "print(f\"Test Accuracy: {accuracy * 100:.2f}%\")\n",
    "\n",
    "conf_matrix = confusion_matrix(y_test, y_pred)\n",
    "print(\"Confusion Matrix:\\n\", conf_matrix)"
   ],
   "id": "5bc2aa23dcd88569",
   "outputs": [
    {
     "name": "stdout",
     "output_type": "stream",
     "text": [
      "Test Accuracy: 40.00%\n",
      "Confusion Matrix:\n",
      " [[1 3]\n",
      " [0 1]]\n"
     ]
    }
   ],
   "execution_count": 116
  },
  {
   "metadata": {},
   "cell_type": "markdown",
   "source": "## (e) Overfitting/Underfitting Check",
   "id": "9950d54e912940e6"
  },
  {
   "metadata": {
    "ExecuteTime": {
     "end_time": "2024-11-07T04:59:21.461635Z",
     "start_time": "2024-11-07T04:59:21.453086Z"
    }
   },
   "cell_type": "code",
   "source": [
    "train_pred = np.array([tree.predict(x) for x in X_train])\n",
    "train_accuracy = np.sum(train_pred == y_train) / len(y_train)\n",
    "print(f\"Training Accuracy: {train_accuracy * 100:.2f}%\")\n",
    "\n",
    "if train_accuracy > accuracy + 0.1:\n",
    "    print(\"The model may be overfitting.\")\n",
    "elif accuracy > train_accuracy + 0.1:\n",
    "    print(\"The model may be underfitting.\")\n",
    "else:\n",
    "    print(\"The model seems well-fitted.\")"
   ],
   "id": "6d70e0b23d479e80",
   "outputs": [
    {
     "name": "stdout",
     "output_type": "stream",
     "text": [
      "Training Accuracy: 81.25%\n",
      "The model may be overfitting.\n"
     ]
    }
   ],
   "execution_count": 117
  }
 ],
 "metadata": {
  "kernelspec": {
   "display_name": "Python 3",
   "language": "python",
   "name": "python3"
  },
  "language_info": {
   "codemirror_mode": {
    "name": "ipython",
    "version": 2
   },
   "file_extension": ".py",
   "mimetype": "text/x-python",
   "name": "python",
   "nbconvert_exporter": "python",
   "pygments_lexer": "ipython2",
   "version": "2.7.6"
  }
 },
 "nbformat": 4,
 "nbformat_minor": 5
}
