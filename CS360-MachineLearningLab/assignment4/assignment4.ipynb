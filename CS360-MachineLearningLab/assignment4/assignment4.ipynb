{
 "cells": [
  {
   "cell_type": "markdown",
   "metadata": {
    "formattedRanges": [],
    "cell_id": "5ad10b4341974f65b62b6f1ef0085082",
    "deepnote_cell_type": "text-cell-h2"
   },
   "source": "## Practice Assignment 4",
   "block_group": "868ca74c654f40798f38bdc673292a30"
  },
  {
   "cell_type": "code",
   "metadata": {
    "source_hash": "10017cf5",
    "execution_start": 1725558578793,
    "execution_millis": 102,
    "deepnote_to_be_reexecuted": false,
    "cell_id": "b965b9c5754a42aea69a590a483d882a",
    "deepnote_cell_type": "code",
    "ExecuteTime": {
     "end_time": "2024-10-17T01:22:37.174863Z",
     "start_time": "2024-10-17T01:22:37.000578Z"
    }
   },
   "source": "import numpy as np\n\n# Dataset\nhours = np.array([1, 2, 3, 4, 5, 6, 7, 8, 9, 10])\nscores = np.array([2, 4, 6, 8, 10, 12, 14, 16, 18, 20])\n\nprint(\"Dataset loaded successfully.\")",
   "block_group": "b965b9c5754a42aea69a590a483d882a",
   "outputs_reference": "dbtable:cell_outputs/36efc9b6-ce6e-4942-a171-9c90e770beed",
   "content_dependencies": {
    "codeHash": "10017cf5",
    "usedVariables": [
     "np"
    ],
    "importedModules": [
     "np"
    ],
    "definedVariables": [
     "hours",
     "scores"
    ]
   },
   "outputs": [
    {
     "name": "stdout",
     "output_type": "stream",
     "text": [
      "Dataset loaded successfully.\n"
     ]
    }
   ],
   "execution_count": 1
  },
  {
   "cell_type": "markdown",
   "metadata": {
    "formattedRanges": [],
    "cell_id": "ec0f06246fbc4892b612cf02018bb242",
    "deepnote_cell_type": "text-cell-h3"
   },
   "source": "### Split the Dataset:",
   "block_group": "b27c0449502c472881cac1fdc627f022"
  },
  {
   "cell_type": "code",
   "metadata": {
    "source_hash": "55a799ed",
    "execution_start": 1725558578794,
    "execution_millis": 484,
    "deepnote_to_be_reexecuted": false,
    "cell_id": "fca3ed7dfcaa44f4a306bca22e42920e",
    "deepnote_cell_type": "code",
    "ExecuteTime": {
     "end_time": "2024-10-17T01:22:38.213014Z",
     "start_time": "2024-10-17T01:22:37.177447Z"
    }
   },
   "source": "from sklearn.model_selection import train_test_split\n\n# Split the dataset into training (60%), validation (20%), and testing (20%) sets\nX_train, X_temp, y_train, y_temp = train_test_split(hours, scores, test_size=0.4, random_state=42)\nX_val, X_test, y_val, y_test = train_test_split(X_temp, y_temp, test_size=0.5, random_state=42)\n\nprint(\"Dataset split into training, validation, and testing sets.\")",
   "block_group": "e22777baa41449469cddafa0d203589d",
   "outputs_reference": "dbtable:cell_outputs/9ff5413b-5f9e-498a-8e47-56a16ac25fa7",
   "content_dependencies": {
    "codeHash": "55a799ed",
    "usedVariables": [
     "X_temp",
     "y_temp",
     "scores",
     "train_test_split",
     "hours"
    ],
    "importedModules": [
     "train_test_split"
    ],
    "definedVariables": [
     "X_temp",
     "y_temp",
     "X_test",
     "y_val",
     "y_test",
     "y_train",
     "X_train",
     "X_val"
    ]
   },
   "outputs": [
    {
     "name": "stdout",
     "output_type": "stream",
     "text": [
      "Dataset split into training, validation, and testing sets.\n"
     ]
    }
   ],
   "execution_count": 2
  },
  {
   "cell_type": "markdown",
   "metadata": {
    "formattedRanges": [],
    "cell_id": "993d18a594244298a8e5f9e8d9b745c0",
    "deepnote_cell_type": "text-cell-h3"
   },
   "source": "### Implementing Gradient Descent\n",
   "block_group": "639e517f5ce348718fa150fa5708bb2b"
  },
  {
   "cell_type": "code",
   "metadata": {
    "source_hash": "a919b11d",
    "execution_start": 1725558579289,
    "execution_millis": 42,
    "deepnote_to_be_reexecuted": false,
    "cell_id": "1cdaa6ad4fa54841bbdadabc4715df93",
    "deepnote_cell_type": "code",
    "ExecuteTime": {
     "end_time": "2024-10-17T01:22:38.220296Z",
     "start_time": "2024-10-17T01:22:38.214893Z"
    }
   },
   "source": "def gradient_descent(X, y, learning_rate=0.01, iterations=1000):\n    m = len(y)  # number of training examples\n    beta0 = 0  # initialize beta0 (or theta0)\n    beta1 = 0  # initialize beta1 (or theta1)\n    \n    for _ in range(iterations):\n        y_pred = beta0 + beta1 * X  # predict y using the current beta values\n        d_beta0 = (1/m) * sum(y_pred - y)  # partial derivative w.r.t beta0\n        d_beta1 = (1/m) * sum((y_pred - y) * X)  # partial derivative w.r.t beta1\n        \n        # Update beta0 and beta1 using the gradient descent rule\n        beta0 = beta0 - learning_rate * d_beta0\n        beta1 = beta1 - learning_rate * d_beta1\n    \n    return beta0, beta1  # return the optimized values\n",
   "block_group": "1fcc8f4dc4ce424e80be532be01694c9",
   "outputs_reference": null,
   "content_dependencies": {
    "codeHash": "a919b11d",
    "usedVariables": [
     "m",
     "X",
     "d_beta0",
     "d_beta1",
     "y",
     "beta1",
     "iterations",
     "beta0",
     "y_pred",
     "learning_rate"
    ],
    "importedModules": [],
    "definedVariables": [
     "m",
     "gradient_descent",
     "d_beta0",
     "d_beta1",
     "beta1",
     "beta0",
     "y_pred",
     "_"
    ]
   },
   "outputs": [],
   "execution_count": 3
  },
  {
   "cell_type": "markdown",
   "metadata": {
    "formattedRanges": [],
    "cell_id": "6fc9dfb88ccd44febf7d6b5eb2c3c304",
    "deepnote_cell_type": "text-cell-h3"
   },
   "source": "### Evaluate the Model on Validation Set",
   "block_group": "0f519a7c85f54170b83c1109eab27a06"
  },
  {
   "cell_type": "code",
   "metadata": {
    "source_hash": "fa2515c",
    "execution_start": 1725558579301,
    "execution_millis": 30,
    "deepnote_to_be_reexecuted": false,
    "cell_id": "945d5a4a058e434f8cb83491e1170d59",
    "deepnote_cell_type": "code",
    "ExecuteTime": {
     "end_time": "2024-10-17T01:22:38.233439Z",
     "start_time": "2024-10-17T01:22:38.222386Z"
    }
   },
   "source": "def evaluate_model(X, y, beta0, beta1):\n    y_pred = beta0 + beta1 * X\n    mse = np.mean((y_pred - y) ** 2)\n    return mse\n\n# Training the model\nbeta0, beta1 = gradient_descent(X_train, y_train)\n\n# Evaluating on validation set\nval_mse = evaluate_model(X_val, y_val, beta0, beta1)\nprint(f'Validation MSE: {val_mse}')",
   "block_group": "181a7b85485648ae9ba4ad0fed83c8ca",
   "outputs_reference": "dbtable:cell_outputs/717d4e90-8488-42b8-b874-1c81c0a408e3",
   "content_dependencies": {
    "codeHash": "fa2515c",
    "usedVariables": [
     "gradient_descent",
     "X",
     "np",
     "beta1",
     "y",
     "evaluate_model",
     "val_mse",
     "y_val",
     "y_pred",
     "beta0",
     "y_train",
     "X_train",
     "X_val",
     "mse"
    ],
    "importedModules": [],
    "definedVariables": [
     "beta1",
     "evaluate_model",
     "val_mse",
     "beta0",
     "y_pred",
     "mse"
    ]
   },
   "outputs": [
    {
     "name": "stdout",
     "output_type": "stream",
     "text": [
      "Validation MSE: 0.0002743037177659931\n"
     ]
    }
   ],
   "execution_count": 4
  },
  {
   "cell_type": "markdown",
   "metadata": {
    "formattedRanges": [],
    "cell_id": "bb17a8c4353140ccb5da7e1306e9d533",
    "deepnote_cell_type": "text-cell-h3"
   },
   "source": "### Find the Final Value of the Parameters",
   "block_group": "6cd267748b774e7cbaa2af133521b806"
  },
  {
   "cell_type": "code",
   "metadata": {
    "source_hash": "4e3858bb",
    "execution_start": 1725558579357,
    "execution_millis": 40,
    "deepnote_to_be_reexecuted": false,
    "cell_id": "2785afa1634c46a4acfc3e754b70311f",
    "deepnote_cell_type": "code",
    "ExecuteTime": {
     "end_time": "2024-10-17T01:22:38.244359Z",
     "start_time": "2024-10-17T01:22:38.237571Z"
    }
   },
   "source": "# Final parameters after gradient descent\nprint(f'Final parameters: beta0 = {beta0}, beta1 = {beta1}')",
   "block_group": "6e80f6dbf9eb46c2a4df4f8980153de8",
   "outputs_reference": "dbtable:cell_outputs/c0f4c319-d67e-473d-b270-04c4b9284be9",
   "content_dependencies": {
    "codeHash": "4e3858bb",
    "usedVariables": [
     "beta1",
     "beta0"
    ],
    "importedModules": [],
    "definedVariables": []
   },
   "outputs": [
    {
     "name": "stdout",
     "output_type": "stream",
     "text": [
      "Final parameters: beta0 = 0.07544424206715941, beta1 = 1.9893546314780122\n"
     ]
    }
   ],
   "execution_count": 5
  },
  {
   "cell_type": "markdown",
   "metadata": {
    "formattedRanges": [],
    "cell_id": "d7018de38c3e466fbed98cce21e402ca",
    "deepnote_cell_type": "text-cell-h3"
   },
   "source": "### Test the Model on Testing Data",
   "block_group": "9ebfe91cdfb7479f90a8c92189591658"
  },
  {
   "cell_type": "code",
   "metadata": {
    "source_hash": "c82fafbc",
    "execution_start": 1725558579357,
    "execution_millis": 41,
    "deepnote_to_be_reexecuted": false,
    "cell_id": "2c32aed292e5416c9cdd65b865ea043f",
    "deepnote_cell_type": "code",
    "ExecuteTime": {
     "end_time": "2024-10-17T01:22:38.253092Z",
     "start_time": "2024-10-17T01:22:38.246087Z"
    }
   },
   "source": "# Evaluating on test set\ntest_mse = evaluate_model(X_test, y_test, beta0, beta1)\nprint(f'Test MSE: {test_mse}')",
   "block_group": "707c6e73ae5e470c9f8c6be3ce44c0ee",
   "outputs_reference": "dbtable:cell_outputs/7db970d0-cc70-4ec5-bb30-15ef87f13339",
   "content_dependencies": {
    "codeHash": "c82fafbc",
    "usedVariables": [
     "test_mse",
     "beta1",
     "evaluate_model",
     "X_test",
     "y_test",
     "beta0"
    ],
    "importedModules": [],
    "definedVariables": [
     "test_mse"
    ]
   },
   "outputs": [
    {
     "name": "stdout",
     "output_type": "stream",
     "text": [
      "Test MSE: 0.0035657480595095463\n"
     ]
    }
   ],
   "execution_count": 6
  },
  {
   "cell_type": "markdown",
   "metadata": {
    "formattedRanges": [],
    "cell_id": "f55b20ad56e64ef5a5cb7b551f4bc302",
    "deepnote_cell_type": "text-cell-h3"
   },
   "source": "### Visualizing Results",
   "block_group": "d5644f278d5b4dd193ea6c3304aab65d"
  },
  {
   "cell_type": "code",
   "metadata": {
    "source_hash": "21abb07d",
    "execution_start": 1725558579359,
    "execution_millis": 1205,
    "deepnote_to_be_reexecuted": false,
    "cell_id": "95cfb5221212410b9c7526844e01f28a",
    "deepnote_cell_type": "code",
    "ExecuteTime": {
     "end_time": "2024-10-17T01:22:38.764781Z",
     "start_time": "2024-10-17T01:22:38.255507Z"
    }
   },
   "source": "import matplotlib.pyplot as plt\n\n# Plotting the results\nplt.figure(figsize=(10, 6))\n\n# Plot training data\nplt.scatter(X_train, y_train, color='blue', label='Training Data')\n# Plot validation data\nplt.scatter(X_val, y_val, color='green', label='Validation Data')\n# Plot test data\nplt.scatter(X_test, y_test, color='red', label='Test Data')\n\n# Plot regression line\nx_line = np.linspace(0, 11, 100)\ny_line = beta0 + beta1 * x_line\nplt.plot(x_line, y_line, color='black', label='Regression Line')\n\n# Adding titles and labels\nplt.title('Linear Regression with Gradient Descent')\nplt.xlabel('Hours of Study')\nplt.ylabel('Exam Score')\nplt.legend()\nplt.grid(True)\nplt.show()",
   "block_group": "781e6282ea5b4ce8ae3b40b0e9356262",
   "outputs_reference": "s3:deepnote-cell-outputs-production/18e9e284-5b79-4e26-bac9-ef082235c0b0",
   "content_dependencies": {
    "codeHash": "21abb07d",
    "usedVariables": [
     "plt",
     "np",
     "beta1",
     "X_test",
     "y_val",
     "y_test",
     "y_train",
     "beta0",
     "X_train",
     "X_val",
     "x_line",
     "y_line"
    ],
    "importedModules": [
     "plt"
    ],
    "definedVariables": [
     "y_line",
     "x_line"
    ]
   },
   "outputs": [
    {
     "data": {
      "text/plain": [
       "<Figure size 1000x600 with 1 Axes>"
      ],
      "image/png": "[encoded data removed]"
     },
     "metadata": {},
     "output_type": "display_data"
    }
   ],
   "execution_count": 7
  },
  {
   "cell_type": "markdown",
   "source": "<a style='text-decoration:none;line-height:16px;display:flex;color:#5B5B62;padding:10px;justify-content:end;' href='https://deepnote.com?utm_source=created-in-deepnote-cell&projectId=aa09a8a7-e5ce-491c-83d3-526f85db1462' target=\"_blank\">\n<img alt='Created in deepnote.com' style='display:inline;max-height:16px;margin:0px;margin-right:7.5px;' src='data:image/svg+xml;base64,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' > </img>\nCreated in <span style='font-weight:600;margin-left:4px;'>Deepnote</span></a>",
   "metadata": {
    "created_in_deepnote_cell": true,
    "deepnote_cell_type": "markdown"
   }
  }
 ],
 "nbformat": 4,
 "nbformat_minor": 0,
 "metadata": {
  "deepnote_notebook_id": "67c238c05e5c42e48f1d1a7f3df28bb4",
  "deepnote_execution_queue": [],
  "kernelspec": {
   "name": "python3",
   "language": "python",
   "display_name": "Python 3 (ipykernel)"
  }
 }
}
